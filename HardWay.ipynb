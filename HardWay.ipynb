{
 "cells": [
  {
   "cell_type": "code",
   "execution_count": 6,
   "id": "6ceeb925",
   "metadata": {},
   "outputs": [
    {
     "name": "stdout",
     "output_type": "stream",
     "text": [
      "Enter file name:sampletext.txt\n",
      "Here's the content of your file sampletext.txt\n",
      "\n",
      "This is my text file.\n",
      "This is so cool.\n",
      "Thanks.\n"
     ]
    }
   ],
   "source": [
    "filename = input('Enter file name:')\n",
    "\n",
    "#opened a file\n",
    "txt = open(filename)\n",
    "\n",
    "print(f\"Here's the content of your file {filename}\")\n",
    "\n",
    "# txt now is a FILE OBJECT on which we call a function read()\n",
    "print('\\n',txt.read(),sep='')"
   ]
  }
 ],
 "metadata": {
  "kernelspec": {
   "display_name": "Python 3 (ipykernel)",
   "language": "python",
   "name": "python3"
  },
  "language_info": {
   "codemirror_mode": {
    "name": "ipython",
    "version": 3
   },
   "file_extension": ".py",
   "mimetype": "text/x-python",
   "name": "python",
   "nbconvert_exporter": "python",
   "pygments_lexer": "ipython3",
   "version": "3.9.13"
  }
 },
 "nbformat": 4,
 "nbformat_minor": 5
}
